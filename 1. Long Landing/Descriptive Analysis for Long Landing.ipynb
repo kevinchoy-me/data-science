{
 "cells": [
  {
   "cell_type": "code",
   "execution_count": null,
   "id": "37acd468",
   "metadata": {},
   "outputs": [],
   "source": [
    "selected_height = '1000' #input(\"Please enter the required height - 1000, 500 or 50. Enter only numbers --> \")"
   ]
  },
  {
   "cell_type": "code",
   "execution_count": null,
   "id": "eaee4ba2",
   "metadata": {},
   "outputs": [],
   "source": [
    "import pandas as pd\n",
    "import re\n",
    "from pycaret.regression import *\n",
    "from pandas_profiling import ProfileReport\n",
    "from pycaret.utils import enable_colab, check_metric\n",
    "enable_colab()\n",
    "\n",
    "%matplotlib inline"
   ]
  },
  {
   "cell_type": "code",
   "execution_count": null,
   "id": "65415e17",
   "metadata": {},
   "outputs": [],
   "source": [
    "# Defining the CSV filepath for 3 different heights - 1000, 500, 50 feets\n",
    "data_path = ''\n",
    "different_height_data_paths = {'1000': data_path + '\\\\consolidated_data_1000.csv', \n",
    "                               '500' : data_path + '\\\\consolidated_data_500.csv', \n",
    "                               '50' : data_path + '\\\\consolidated_data_50.csv'}\n"
   ]
  },
  {
   "cell_type": "code",
   "execution_count": null,
   "id": "dd0165bd",
   "metadata": {},
   "outputs": [],
   "source": [
    "# Read the CSV file from selected height.\n",
    "current_height = different_height_data_paths[selected_height]\n",
    "\n",
    "# Read CSV file at each height\n",
    "consolidated_df = pd.read_csv(current_height)\n",
    "consolidated_df.reset_index(drop = True)"
   ]
  },
  {
   "cell_type": "code",
   "execution_count": null,
   "id": "4f8c1013",
   "metadata": {},
   "outputs": [],
   "source": [
    "# Selecting the independent variable that is required. Due to company proprietary data, actual features will not be shown.\n",
    "vars_to_keep = ['', '', '']\n",
    "cleaned_df = consolidated_df[vars_to_keep]"
   ]
  },
  {
   "cell_type": "code",
   "execution_count": null,
   "id": "d9e218b7",
   "metadata": {},
   "outputs": [],
   "source": [
    "# Cleaning the column names and generate final Pandas Profiling Report. Pandas Profiling Report was generated earlier for feature (independent variables) selection\n",
    "cleaned_df.columns = [re.sub('\\W+', '_', c.lower()) for c in cleaned_df.columns]\n",
    "title = \"Cleaned Profiling Report - \" + selected_height + \" ft\"\n",
    "profile_filename = '/cleaned_profile' + selected_height + '.html'\n",
    "cleaned_profile = ProfileReport(cleaned_df, minimal=True, title=title)\n",
    "cleaned_profile.to_file(data_path + profile_filename)"
   ]
  },
  {
   "cell_type": "code",
   "execution_count": null,
   "id": "0c74f8c8",
   "metadata": {},
   "outputs": [],
   "source": [
    "# Split up train and test data\n",
    "train_data = cleaned_df.sample(frac=0.7, random_state=88798)\n",
    "test_data = cleaned_df.drop(train_data.index)\n",
    "train_data.reset_index(drop=True, inplace=True)\n",
    "test_data.reset_index(drop=True, inplace=True)"
   ]
  },
  {
   "cell_type": "code",
   "execution_count": null,
   "id": "06beb932",
   "metadata": {},
   "outputs": [],
   "source": [
    "#Setting PyCaret up\n",
    "experiment_regression = setup(data = train_data, \n",
    "                            target = 'touchdown_distance', \n",
    "                            test_data = test_data,\n",
    "                            use_gpu= True,\n",
    "                            normalize = True, \n",
    "                            transformation = True, \n",
    "                            fold = 10,\n",
    "                            fold_shuffle = True,\n",
    "                            silent = True\n",
    "                            )"
   ]
  },
  {
   "cell_type": "code",
   "execution_count": null,
   "id": "b485b351",
   "metadata": {},
   "outputs": [],
   "source": [
    "# Model training and selecting the best model. R2 is chosen by default\n",
    "best_model = compare_models()\n",
    "print(best_model)"
   ]
  },
  {
   "cell_type": "code",
   "execution_count": null,
   "id": "776e81a3",
   "metadata": {},
   "outputs": [],
   "source": [
    "# Model tuning\n",
    "tuned_model = tune_model(estimator = best_model, \n",
    "                        fold = 5,\n",
    "                        optimize = 'MAPE',\n",
    "                        search_library = 'optuna',\n",
    "                        choose_better = True)"
   ]
  },
  {
   "cell_type": "code",
   "execution_count": null,
   "id": "784567ab",
   "metadata": {},
   "outputs": [],
   "source": [
    "# Ensemble Model\n",
    "ensembled_bagging_model = ensemble_model(tuned_model,\n",
    "                                       optimize = 'MAPE')"
   ]
  },
  {
   "cell_type": "code",
   "execution_count": null,
   "id": "2fe2775a",
   "metadata": {},
   "outputs": [],
   "source": [
    "ensembled_boosting_model = ensemble_model(tuned_model, \n",
    "                                 method='Boosting',\n",
    "                                 optimize = 'MAPE')"
   ]
  },
  {
   "cell_type": "code",
   "execution_count": null,
   "id": "b8130636",
   "metadata": {},
   "outputs": [],
   "source": [
    "#Finalize the model\n",
    "best_finalized_model = finalize_model(automl(optimize = 'MAPE'))\n",
    "print(best_finalized_model)"
   ]
  },
  {
   "cell_type": "code",
   "execution_count": null,
   "id": "40ed1cd0",
   "metadata": {},
   "outputs": [],
   "source": [
    "#Evaluate the model such as learning curve and feature importances\n",
    "evaluate_model(best_finalized_model)\n",
    "saved_model = save_model(best_finalized_model, 'best_model_' + selected_height)"
   ]
  }
 ],
 "metadata": {
  "kernelspec": {
   "display_name": "Python 3",
   "language": "python",
   "name": "python3"
  },
  "language_info": {
   "codemirror_mode": {
    "name": "ipython",
    "version": 3
   },
   "file_extension": ".py",
   "mimetype": "text/x-python",
   "name": "python",
   "nbconvert_exporter": "python",
   "pygments_lexer": "ipython3",
   "version": "3.8.8"
  }
 },
 "nbformat": 4,
 "nbformat_minor": 5
}
